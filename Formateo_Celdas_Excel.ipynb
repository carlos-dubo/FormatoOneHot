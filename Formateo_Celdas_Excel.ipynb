{
  "nbformat": 4,
  "nbformat_minor": 0,
  "metadata": {
    "colab": {
      "provenance": [],
      "mount_file_id": "1OQp5PYw174c5qCEN-HvRChb3Z0MMmuxp",
      "authorship_tag": "ABX9TyMB8ZkJSx3wlMd8Zg5m7/ht",
      "include_colab_link": true
    },
    "kernelspec": {
      "name": "python3",
      "display_name": "Python 3"
    },
    "language_info": {
      "name": "python"
    }
  },
  "cells": [
    {
      "cell_type": "markdown",
      "metadata": {
        "id": "view-in-github",
        "colab_type": "text"
      },
      "source": [
        "<a href=\"https://colab.research.google.com/github/carlos-dubo/FormatoOneHot/blob/main/Formateo_Celdas_Excel.ipynb\" target=\"_parent\"><img src=\"https://colab.research.google.com/assets/colab-badge.svg\" alt=\"Open In Colab\"/></a>"
      ]
    },
    {
      "cell_type": "code",
      "source": [
        "pip install rapidfuzz"
      ],
      "metadata": {
        "colab": {
          "base_uri": "https://localhost:8080/"
        },
        "id": "NSRKeTiiOjcv",
        "outputId": "9222a1ce-4ee9-4a30-96c0-247662ed6465"
      },
      "execution_count": 3,
      "outputs": [
        {
          "output_type": "stream",
          "name": "stdout",
          "text": [
            "Collecting rapidfuzz\n",
            "  Downloading rapidfuzz-3.13.0-cp311-cp311-manylinux_2_17_x86_64.manylinux2014_x86_64.whl.metadata (12 kB)\n",
            "Downloading rapidfuzz-3.13.0-cp311-cp311-manylinux_2_17_x86_64.manylinux2014_x86_64.whl (3.1 MB)\n",
            "\u001b[2K   \u001b[90m━━━━━━━━━━━━━━━━━━━━━━━━━━━━━━━━━━━━━━━━\u001b[0m \u001b[32m3.1/3.1 MB\u001b[0m \u001b[31m31.5 MB/s\u001b[0m eta \u001b[36m0:00:00\u001b[0m\n",
            "\u001b[?25hInstalling collected packages: rapidfuzz\n",
            "Successfully installed rapidfuzz-3.13.0\n"
          ]
        }
      ]
    },
    {
      "cell_type": "code",
      "execution_count": 4,
      "metadata": {
        "id": "nyzPKCOFLEIg"
      },
      "outputs": [],
      "source": [
        "import pandas as pd\n",
        "import numpy as np\n",
        "from math import isnan\n",
        "from openpyxl.utils.dataframe import dataframe_to_rows\n",
        "from openpyxl import load_workbook , Workbook #funcion para cargar un archivo de excel existente\n",
        "from openpyxl.styles import Alignment #permite alinear celdas\n",
        "import os #es un módulo estándar de Python que proporciona funciones para interactuar con el sistema operativo\n",
        "from rapidfuzz import fuzz, process"
      ]
    },
    {
      "cell_type": "markdown",
      "source": [
        "#revisando que columnas usar"
      ],
      "metadata": {
        "id": "dhOt1ArkmB3Y"
      }
    },
    {
      "cell_type": "code",
      "source": [
        "archivo_fulcrum = (\"/content/drive/MyDrive/InvestigacionPsico/ProcesadoExcel/IMC_porcion.xlsx\")#    Mi Test map IMC++ Fulcrum v3.3.xlsx\n",
        "archivo_medal = ('/content/drive/MyDrive/InvestigacionPsico/ProcesadoExcel/Mi Test map IMC++ MEDAL v3.xlsx')\n",
        "df_fulcrum = pd.read_excel(archivo_fulcrum)\n",
        "df_medal=pd.read_excel(archivo_medal)\n",
        "tam = df_fulcrum.shape\n",
        "print(\"Columnas disponibles en df_fulcrum:\")\n",
        "print(df_fulcrum.columns.tolist())"
      ],
      "metadata": {
        "id": "Pv0wQIwFmFhO",
        "colab": {
          "base_uri": "https://localhost:8080/"
        },
        "outputId": "17aa2423-1399-488d-a5f2-68271a60688d"
      },
      "execution_count": null,
      "outputs": [
        {
          "output_type": "stream",
          "name": "stdout",
          "text": [
            "Columnas disponibles en df_fulcrum:\n",
            "['Bloque', 'Var', 'POS', 'POS.1', 'Var_util', 'Escala', 'No_Items', 'POS_Pesos', 'Enunciado', 'Puntuaciones', '.1', '.2', '.3', '.4', '.5', '.6']\n"
          ]
        }
      ]
    },
    {
      "cell_type": "markdown",
      "source": [
        "#Recoleccion de datos informacion de puntuaciones en escalas las test map\n"
      ],
      "metadata": {
        "id": "3QHQ36IVRT7u"
      }
    },
    {
      "cell_type": "code",
      "source": [
        "archivo_fulcrum = (\"/content/drive/MyDrive/InvestigacionPsico/ProcesadoExcel/IMC_porcion.xlsx\")\n",
        "archivo_pruebas = (\"/content/drive/MyDrive/InvestigacionPsico/ProcesadoExcel/pruebas_formato.xlsx\")\n",
        "archivo_medal = ('/content/drive/MyDrive/InvestigacionPsico/ProcesadoExcel/Mi Test map IMC++ MEDAL v3.xlsx')\n",
        "df_fulcrum = pd.read_excel(archivo_fulcrum)\n",
        "df_medal=pd.read_excel(archivo_medal)\n",
        "df_pruebas = pd.read_excel(archivo_pruebas)\n",
        "tam = df_fulcrum.shape\n",
        "\n",
        "df_col = df_fulcrum[[\"Puntuaciones\",\".1\",'.2','.3','.4', '.5','.6']]\n",
        "\n",
        "cantidad_valores_escala = []\n",
        "tipo_escala = []\n",
        "\n",
        "for i,fila in df_col.iterrows():\n",
        "  aux = fila.values\n",
        "  aux = aux[~pd.isnull(aux)]\n",
        "  tam = aux.size\n",
        "  if(fila.dtype == object and tam > 0):\n",
        "    inicio = fila.values[0]\n",
        "    #print(fila.dtype, inicio , tam)\n",
        "    match tam:\n",
        "      case 7:\n",
        "        match inicio:\n",
        "          case 0:\n",
        "            tipo_escala.append(\"0 a 6\")\n",
        "            cantidad_valores_escala.append(tam)\n",
        "\n",
        "          case _:\n",
        "            tipo_escala.append(\"7 indefinida en el indice \"+ str(i+2))\n",
        "            cantidad_valores_escala.append(0)\n",
        "      case 5:\n",
        "        match inicio:\n",
        "          case 5:\n",
        "            tipo_escala.append(\"Lipster inversa\")\n",
        "            cantidad_valores_escala.append(tam)\n",
        "          case 1:\n",
        "            tipo_escala.append(\"Lipster normal\")\n",
        "            cantidad_valores_escala.append(tam)\n",
        "          case 0:\n",
        "            tipo_escala.append(\"Lipster inicio 0\")\n",
        "            cantidad_valores_escala.append(tam)\n",
        "          case _:\n",
        "            tipo_escala.append(\"5 indefinida en el indice \" + str(i+2))\n",
        "            cantidad_valores_escala.append(0)\n",
        "      case 4:\n",
        "        match inicio:\n",
        "          case 1:\n",
        "            tipo_escala.append(\"1 a 4\")\n",
        "            cantidad_valores_escala.append(tam)\n",
        "          case 0:\n",
        "            tipo_escala.append(\"0 a 3\")\n",
        "            cantidad_valores_escala.append(tam)\n",
        "\n",
        "          case 4:\n",
        "            tipo_escala.append(\"4 a 1 invertido\")\n",
        "            cantidad_valores_escala.append(tam)\n",
        "          case _:\n",
        "            tipo_escala.append(\"4 indefinida en el indice \"+ str(i+2))\n",
        "            cantidad_valores_escala.append(0)\n",
        "      case 3:\n",
        "        match inicio:\n",
        "          case 0:\n",
        "            tipo_escala.append(\"0 a 2 nivel problema\")\n",
        "            cantidad_valores_escala.append(tam)\n",
        "          case 1:\n",
        "            tipo_escala.append(\"si a nose\")\n",
        "            cantidad_valores_escala.append(tam)\n",
        "          case _:\n",
        "            tipo_escala.append(\"3 indefinida en el indice \"+ str(i+2))\n",
        "            cantidad_valores_escala.append(0)\n",
        "      case 6:\n",
        "        match inicio:\n",
        "          case 6:\n",
        "            tipo_escala.append(\"6 a 1 escala\")\n",
        "            cantidad_valores_escala.append(tam)\n",
        "          case 0:\n",
        "            tipo_escala.append(\"1 a 6 escala\")\n",
        "            cantidad_valores_escala.append(tam)\n",
        "          case _:\n",
        "            tipo_escala.append(\"6 indefinida en el indice \"+ str(i+2))\n",
        "            cantidad_valores_escala.append(0)\n",
        "      case 2:\n",
        "        match inicio:\n",
        "          case 1:\n",
        "            tipo_escala.append(\"booleana inversa\")\n",
        "            cantidad_valores_escala.append(tam)\n",
        "          case 0:\n",
        "            tipo_escala.append(\"booleana normal\")\n",
        "            cantidad_valores_escala.append(tam)\n",
        "          case _:\n",
        "            tipo_escala.append(\"2 indefinida en el indice \"+ str(i+2))\n",
        "            cantidad_valores_escala.append(0)\n",
        "      case _:\n",
        "        tipo_escala.append(\"No definida en el indice \"+ str(i+2))\n",
        "        cantidad_valores_escala.append(0)\n",
        "  else:\n",
        "    tipo_escala.append(\"N/A respuesta verbal\"+ str(i+2))\n",
        "    cantidad_valores_escala.append(1)\n",
        "\n",
        "print(len(tipo_escala) )\n",
        "print(df_pruebas.shape)\n",
        "print(df_pruebas)\n",
        "print(len(cantidad_valores_escala))\n",
        "for i in range(len(tipo_escala)):\n",
        "  print(tipo_escala[i],\"||\",cantidad_valores_escala[i])\n",
        "\n",
        "#print(list(df_fulcrum))\n",
        "\n",
        "#print(list(df_medal))"
      ],
      "metadata": {
        "colab": {
          "base_uri": "https://localhost:8080/"
        },
        "id": "qe11r7S0MHL6",
        "outputId": "141c9f0d-0d62-4cfb-e41a-64d22ced915e"
      },
      "execution_count": null,
      "outputs": [
        {
          "output_type": "stream",
          "name": "stdout",
          "text": [
            "47\n",
            "(0, 0)\n",
            "Empty DataFrame\n",
            "Columns: []\n",
            "Index: []\n",
            "47\n",
            "N/A respuesta verbal2 || 1\n",
            "5 indefinida en el indice 3 || 0\n",
            "Lipster inicio 0 || 5\n",
            "Lipster inicio 0 || 5\n",
            "Lipster inicio 0 || 5\n",
            "Lipster inicio 0 || 5\n",
            "Lipster inicio 0 || 5\n",
            "Lipster inicio 0 || 5\n",
            "Lipster inicio 0 || 5\n",
            "Lipster inicio 0 || 5\n",
            "Lipster inicio 0 || 5\n",
            "Lipster inicio 0 || 5\n",
            "Lipster inicio 0 || 5\n",
            "Lipster inicio 0 || 5\n",
            "Lipster inicio 0 || 5\n",
            "Lipster inicio 0 || 5\n",
            "Lipster inicio 0 || 5\n",
            "Lipster inicio 0 || 5\n",
            "Lipster inicio 0 || 5\n",
            "Lipster inicio 0 || 5\n",
            "Lipster inicio 0 || 5\n",
            "Lipster inicio 0 || 5\n",
            "2 indefinida en el indice 24 || 0\n",
            "booleana inversa || 2\n",
            "booleana inversa || 2\n",
            "booleana inversa || 2\n",
            "booleana inversa || 2\n",
            "booleana inversa || 2\n",
            "booleana inversa || 2\n",
            "booleana inversa || 2\n",
            "2 indefinida en el indice 32 || 0\n",
            "booleana inversa || 2\n",
            "booleana inversa || 2\n",
            "booleana inversa || 2\n",
            "booleana inversa || 2\n",
            "booleana inversa || 2\n",
            "booleana inversa || 2\n",
            "booleana inversa || 2\n",
            "booleana inversa || 2\n",
            "booleana inversa || 2\n",
            "booleana inversa || 2\n",
            "booleana inversa || 2\n",
            "booleana inversa || 2\n",
            "booleana inversa || 2\n",
            "booleana inversa || 2\n",
            "N/A respuesta verbal47 || 1\n",
            "N/A respuesta verbal48 || 1\n"
          ]
        }
      ]
    },
    {
      "cell_type": "markdown",
      "source": [
        "#Agregamos la columna de Tam y Escala junto con los datos de los arreglos"
      ],
      "metadata": {
        "id": "4Cz7AMQeReqR"
      }
    },
    {
      "cell_type": "code",
      "source": [
        "# Abrir el archivo existente\n",
        "wb = load_workbook(\"/content/drive/MyDrive/InvestigacionPsico/ProcesadoExcel/IMC_aumentado.xlsx\")\n",
        "ws = wb.active  # O selecciona la hoja que quieras: wb[\"NombreHoja\"]\n",
        "# 1. Escribir encabezado en la celda indicada\n",
        "ws[\"Q1\"] = \"Escala\"\n",
        "ws[\"R1\"] = \"Tam\"\n",
        "\n",
        "# 2. Escribir valores en las celdas correspondientes\n",
        "\n",
        "for i, valor in enumerate(tipo_escala, start=2):  # Empieza en fila 2\n",
        "    celda = f\"Q{i}\"\n",
        "    ws[celda] = valor\n",
        "for i, valor in enumerate(cantidad_valores_escala, start=2):  # Empieza en fila 2\n",
        "    celda = f\"R{i}\"\n",
        "    ws[celda] = valor\n",
        "\n",
        "\n",
        "# 3. Guardar cambios\n",
        "wb.save(\"/content/drive/MyDrive/InvestigacionPsico/ProcesadoExcel/IMC_aumentado.xlsx\")"
      ],
      "metadata": {
        "id": "LurFpARaR_Vd"
      },
      "execution_count": null,
      "outputs": []
    },
    {
      "cell_type": "markdown",
      "source": [
        "#Revisar la relacion de tam y de Var_Util"
      ],
      "metadata": {
        "id": "8oDFjzoi9gt4"
      }
    },
    {
      "cell_type": "code",
      "source": [
        "wb = load_workbook(\"/content/drive/MyDrive/InvestigacionPsico/ProcesadoExcel/IMC_aumentado.xlsx\")\n",
        "ws = wb.active  # O selecciona la hoja que quieras: wb[\"NombreHoja\"]\n",
        "\n",
        "encabezados = next(ws.iter_rows(min_row=1, max_row=1, values_only=True))\n",
        "\n",
        "col5 = []\n",
        "col17 = []\n",
        "\n",
        "# Recorrer las filas desde la fila 2 (asumiendo que fila 1 es encabezado)\n",
        "for fila in ws.iter_rows(min_row=2, values_only=True):\n",
        "  if fila[4] is not None and fila[17] is not None:\n",
        "    col5.append(fila[4])\n",
        "    col17.append(fila[17])\n",
        "    print(\"valores: \", fila[4],\"///\", fila[17])"
      ],
      "metadata": {
        "collapsed": true,
        "id": "5S71lueH9m7k",
        "colab": {
          "base_uri": "https://localhost:8080/",
          "height": 220
        },
        "outputId": "468b82e4-4b9a-4744-a7cb-e5e6a643ec55"
      },
      "execution_count": null,
      "outputs": [
        {
          "output_type": "error",
          "ename": "IndexError",
          "evalue": "tuple index out of range",
          "traceback": [
            "\u001b[0;31m---------------------------------------------------------------------------\u001b[0m",
            "\u001b[0;31mIndexError\u001b[0m                                Traceback (most recent call last)",
            "\u001b[0;32m/tmp/ipython-input-682827014.py\u001b[0m in \u001b[0;36m<cell line: 0>\u001b[0;34m()\u001b[0m\n\u001b[1;32m     10\u001b[0m \u001b[0;31m# Recorrer las filas desde la fila 2 (asumiendo que fila 1 es encabezado)\u001b[0m\u001b[0;34m\u001b[0m\u001b[0;34m\u001b[0m\u001b[0m\n\u001b[1;32m     11\u001b[0m \u001b[0;32mfor\u001b[0m \u001b[0mfila\u001b[0m \u001b[0;32min\u001b[0m \u001b[0mws\u001b[0m\u001b[0;34m.\u001b[0m\u001b[0miter_rows\u001b[0m\u001b[0;34m(\u001b[0m\u001b[0mmin_row\u001b[0m\u001b[0;34m=\u001b[0m\u001b[0;36m2\u001b[0m\u001b[0;34m,\u001b[0m \u001b[0mvalues_only\u001b[0m\u001b[0;34m=\u001b[0m\u001b[0;32mTrue\u001b[0m\u001b[0;34m)\u001b[0m\u001b[0;34m:\u001b[0m\u001b[0;34m\u001b[0m\u001b[0;34m\u001b[0m\u001b[0m\n\u001b[0;32m---> 12\u001b[0;31m   \u001b[0;32mif\u001b[0m \u001b[0mfila\u001b[0m\u001b[0;34m[\u001b[0m\u001b[0;36m4\u001b[0m\u001b[0;34m]\u001b[0m \u001b[0;32mis\u001b[0m \u001b[0;32mnot\u001b[0m \u001b[0;32mNone\u001b[0m \u001b[0;32mand\u001b[0m \u001b[0mfila\u001b[0m\u001b[0;34m[\u001b[0m\u001b[0;36m17\u001b[0m\u001b[0;34m]\u001b[0m \u001b[0;32mis\u001b[0m \u001b[0;32mnot\u001b[0m \u001b[0;32mNone\u001b[0m\u001b[0;34m:\u001b[0m\u001b[0;34m\u001b[0m\u001b[0;34m\u001b[0m\u001b[0m\n\u001b[0m\u001b[1;32m     13\u001b[0m     \u001b[0mcol5\u001b[0m\u001b[0;34m.\u001b[0m\u001b[0mappend\u001b[0m\u001b[0;34m(\u001b[0m\u001b[0mfila\u001b[0m\u001b[0;34m[\u001b[0m\u001b[0;36m4\u001b[0m\u001b[0;34m]\u001b[0m\u001b[0;34m)\u001b[0m\u001b[0;34m\u001b[0m\u001b[0;34m\u001b[0m\u001b[0m\n\u001b[1;32m     14\u001b[0m     \u001b[0mcol17\u001b[0m\u001b[0;34m.\u001b[0m\u001b[0mappend\u001b[0m\u001b[0;34m(\u001b[0m\u001b[0mfila\u001b[0m\u001b[0;34m[\u001b[0m\u001b[0;36m17\u001b[0m\u001b[0;34m]\u001b[0m\u001b[0;34m)\u001b[0m\u001b[0;34m\u001b[0m\u001b[0;34m\u001b[0m\u001b[0m\n",
            "\u001b[0;31mIndexError\u001b[0m: tuple index out of range"
          ]
        }
      ]
    },
    {
      "cell_type": "markdown",
      "source": [
        "#tomar el nombre de variable y hacer sub nombres"
      ],
      "metadata": {
        "id": "CwR5_QkmCRdp"
      }
    },
    {
      "cell_type": "code",
      "execution_count": 11,
      "metadata": {
        "id": "W56pMcadgyDz"
      },
      "outputs": [],
      "source": [
        "def actualizar_archivo_imc(archivo_origen = \"/content/drive/MyDrive/InvestigacionPsico/ProcesadoExcel/pruebas.xlsx\",\n",
        "                           archivo_destino=\"/content/drive/MyDrive/InvestigacionPsico/ProcesadoExcel/pruebas_formato.xlsx\" ):\n",
        "  # 1. leer el encabezado del archivo origen\n",
        "  #archivo_origen = \"/content/drive/MyDrive/InvestigacionPsico/ProcesadoExcel/IMC_aumentado.xlsx\",\n",
        "                           #archivo_destino=\"/content/drive/MyDrive/InvestigacionPsico/ProcesadoExcel/pruebas_formato.xlsx\"\n",
        "  if not os.path.exists(archivo_origen):\n",
        "    raise FileNotFoundError(f\"Error: El archivo {archivo_origen}, no existe\")\n",
        "  try:\n",
        "    encabezado = pd.read_excel(archivo_origen,usecols=['Var_util','Tam'])\n",
        "    variable = []\n",
        "    nuevos_headers = []\n",
        "    for _,fila in encabezado.iterrows():\n",
        "      variable.append((fila[\"Var_util\"],fila[\"Tam\"]))\n",
        "      nuevos_headers.append(fila[\"Var_util\"])\n",
        "\n",
        "  except Exception as e:\n",
        "    raise ValueError(f\"Error al leer encabezados ==> {str(e)}\")\n",
        "# 2. Revisar y agregar encabezados al archivo destino si es necesario\n",
        "  if os.path.exists(archivo_destino):\n",
        "    wb = load_workbook(archivo_destino)\n",
        "    ws = wb.active\n",
        "    ws.title = \"Datos\"\n",
        "    encabezados_existentes = set(str(cell.value).strip() for cell in ws[1] if pd.notnull(cell.value))\n",
        "  else:\n",
        "    wb = Workbook()\n",
        "    ws = wb.active\n",
        "    ws.title = \"Datos\"\n",
        "    encabezados_existentes = set()\n",
        "\n",
        "\n",
        "  nuevos_headers_limpios = [str(h).strip() for h in nuevos_headers]\n",
        "  encabezados_faltantes = [h for h in nuevos_headers_limpios if h not in encabezados_existentes]\n",
        "\n",
        "  if not encabezados_faltantes:\n",
        "\n",
        "    print(\"No se encontraron novedades.\")\n",
        "    return\n",
        "  else:\n",
        "    print(\"Se encontraron datos nuevos. Encabezados añadidos:\" , encabezados_faltantes)#esto es para indicar que se agregaran variables\n",
        "\n",
        "  # 3. Añadir encabezados fusionados con subencabezados\n",
        "  col_actual = ws.max_column+1  # Comenzamos donde termina el archivo\n",
        "  print(variable)\n",
        "  for var, cant in variable:\n",
        "    if var in encabezados_existentes:\n",
        "      continue  # Ya fue procesado\n",
        "\n",
        "    print(var, type(cant))\n",
        "    if (type(cant)==np.number):\n",
        "      if cant > 0:\n",
        "      # Fusionar celdas para el encabezado principal\n",
        "        ws.merge_cells(start_row=1, start_column=col_actual, end_row=1, end_column=col_actual + cant - 1)\n",
        "        if pd.notnull(var):\n",
        "          celda_header = ws.cell(row=1, column=col_actual, value=var)\n",
        "          celda_header.alignment = Alignment(horizontal='center', vertical='center')\n",
        "      else:\n",
        "        print(f\"en la celda {cant} aparecia valor raro , {type(var)}\")\n",
        "    else:\n",
        "      print(f\"en la casilla {cant} hay un {type(cant)}\")\n",
        "    # Crear subencabezados y rellenar con ceros hasta la fila 12 (10 filas de datos)\n",
        "    if type(cant)==np.number:\n",
        "      for i in range(cant):\n",
        "        if pd.notnull(var):\n",
        "          sub_header = f\"{var}_{i + 1}\"\n",
        "          columna = col_actual + i\n",
        "          ws.cell(row=2, column=columna, value=sub_header)\n",
        "          for fila in range(3, 12):  # filas 3 a 12 (10 filas)\n",
        "            ws.cell(row=fila, column=columna, value=0)\n",
        "          col_actual += cant  # Avanzar a la siguiente posición\n",
        "\n",
        "    wb.save(archivo_destino)\n",
        "\n",
        "  print(\"Archivo actualizado con éxito.\")"
      ]
    },
    {
      "cell_type": "code",
      "source": [
        "#actualizar_archivo_imc(archivo_origen = \"/content/drive/MyDrive/InvestigacionPsico/ProcesadoExcel/IMC_aumentado.xlsx\",\n",
        "#                       archivo_destino=\"/content/drive/MyDrive/InvestigacionPsico/ProcesadoExcel/automatizacion_formato.xlsx\")\n",
        "actualizar_archivo_imc(archivo_origen = \"/content/drive/MyDrive/InvestigacionPsico/ProcesadoExcel/pruebas.xlsx\",\n",
        "                       archivo_destino=\"/content/drive/MyDrive/InvestigacionPsico/ProcesadoExcel/pruebas_formato.xlsx\" )\n"
      ],
      "metadata": {
        "colab": {
          "base_uri": "https://localhost:8080/"
        },
        "id": "55LpoMOY4mf4",
        "outputId": "a246680f-a658-4a1a-9279-f8916d6a7516"
      },
      "execution_count": 12,
      "outputs": [
        {
          "output_type": "stream",
          "name": "stdout",
          "text": [
            "Se encontraron datos nuevos. Encabezados añadidos: ['prueba1', 'pruebas2', 'pruebas3', 'pruebas4', 'ruebas5', 'prueba6']\n",
            "[('prueba1', 2), ('pruebas2', 3), ('pruebas3', 0), ('pruebas4', 1), ('ruebas5', 4), ('prueba6', 7)]\n",
            "prueba1 <class 'int'>\n",
            "en la casilla 2 hay un <class 'int'>\n",
            "pruebas2 <class 'int'>\n",
            "en la casilla 3 hay un <class 'int'>\n",
            "pruebas3 <class 'int'>\n",
            "en la casilla 0 hay un <class 'int'>\n",
            "pruebas4 <class 'int'>\n",
            "en la casilla 1 hay un <class 'int'>\n",
            "ruebas5 <class 'int'>\n",
            "en la casilla 4 hay un <class 'int'>\n",
            "prueba6 <class 'int'>\n",
            "en la casilla 7 hay un <class 'int'>\n",
            "Archivo actualizado con éxito.\n"
          ]
        }
      ]
    },
    {
      "cell_type": "markdown",
      "source": [
        "#Modificar el valor de la variable one hot\n",
        "Cada variable esta en formato one hot , en base al enunciado de la base de datos cambiamos de 0 a 1 la sub variable indicada"
      ],
      "metadata": {
        "id": "qTdL23gF0FNM"
      }
    },
    {
      "cell_type": "code",
      "source": [],
      "metadata": {
        "id": "IA004IDlCUCV"
      },
      "execution_count": null,
      "outputs": []
    },
    {
      "cell_type": "markdown",
      "source": [
        "Pruebas para leer bien los valores N/A de la BD"
      ],
      "metadata": {
        "id": "D-errHkFyi07"
      }
    },
    {
      "cell_type": "code",
      "source": [
        "df = pd.read_excel('')\n",
        "#print(df['Puntuaciones'],df['Unnamed: 10'])\n",
        "#print(df.columns)\n",
        "busqueda = df['Puntuaciones']\n",
        "for val in busqueda:\n",
        "  #print(val)\n",
        "  if pd.isna(val):\n",
        "    print(val)"
      ],
      "metadata": {
        "colab": {
          "base_uri": "https://localhost:8080/"
        },
        "id": "mRKL4tGWynwo",
        "outputId": "7bddf258-5241-4110-969c-2f1d1aba1f1d"
      },
      "execution_count": null,
      "outputs": [
        {
          "output_type": "stream",
          "name": "stdout",
          "text": [
            "nan\n"
          ]
        }
      ]
    },
    {
      "cell_type": "code",
      "source": [
        "df = pd.read_excel('')\n",
        "#print(df['Puntuaciones'],df['Unnamed: 10'])\n",
        "#print(df.columns)\n",
        "busqueda = df['Puntuaciones']\n",
        "\n",
        "for val in busqueda:\n",
        "  #print(val)\n",
        "  if pd.isna(val):\n",
        "    print(val)\n",
        "print(busqueda)"
      ],
      "metadata": {
        "colab": {
          "base_uri": "https://localhost:8080/"
        },
        "outputId": "f757155e-c691-4eab-de8e-45730edab35e",
        "id": "sOU6xDCW7geo"
      },
      "execution_count": null,
      "outputs": [
        {
          "output_type": "stream",
          "name": "stdout",
          "text": [
            "nan\n",
            "0     Siempre\n",
            "1           5\n",
            "2           5\n",
            "3           5\n",
            "4           5\n",
            "       ...   \n",
            "86          1\n",
            "87          1\n",
            "88          1\n",
            "89          1\n",
            "90          1\n",
            "Name: Puntuaciones, Length: 91, dtype: object\n"
          ]
        }
      ]
    },
    {
      "cell_type": "code",
      "source": [
        "df = pd.read_excel('')\n",
        "#print(df['Puntuaciones'],df['Unnamed: 10'])\n",
        "#print(df.columns)\n",
        "busqueda = df['Puntuaciones']\n",
        "\n",
        "for val in busqueda:\n",
        "  #print(val)\n",
        "  if pd.isna(val):\n",
        "    print(val)\n",
        "print(busqueda)"
      ],
      "metadata": {
        "colab": {
          "base_uri": "https://localhost:8080/"
        },
        "outputId": "f757155e-c691-4eab-de8e-45730edab35e",
        "id": "DwRquujd8FxZ"
      },
      "execution_count": null,
      "outputs": [
        {
          "output_type": "stream",
          "name": "stdout",
          "text": [
            "nan\n",
            "0     Siempre\n",
            "1           5\n",
            "2           5\n",
            "3           5\n",
            "4           5\n",
            "       ...   \n",
            "86          1\n",
            "87          1\n",
            "88          1\n",
            "89          1\n",
            "90          1\n",
            "Name: Puntuaciones, Length: 91, dtype: object\n"
          ]
        }
      ]
    },
    {
      "cell_type": "code",
      "source": [
        "df = pd.read_excel('')\n",
        "#print(df['Puntuaciones'],df['Unnamed: 10'])\n",
        "#print(df.columns)\n",
        "busqueda = df['Puntuaciones']\n",
        "\n",
        "for val in busqueda:\n",
        "  #print(val)\n",
        "  if pd.isna(val):\n",
        "    print(val)\n",
        "print(busqueda)"
      ],
      "metadata": {
        "colab": {
          "base_uri": "https://localhost:8080/"
        },
        "outputId": "f757155e-c691-4eab-de8e-45730edab35e",
        "id": "CLalxCkv8Gls"
      },
      "execution_count": null,
      "outputs": [
        {
          "output_type": "stream",
          "name": "stdout",
          "text": [
            "nan\n",
            "0     Siempre\n",
            "1           5\n",
            "2           5\n",
            "3           5\n",
            "4           5\n",
            "       ...   \n",
            "86          1\n",
            "87          1\n",
            "88          1\n",
            "89          1\n",
            "90          1\n",
            "Name: Puntuaciones, Length: 91, dtype: object\n"
          ]
        }
      ]
    },
    {
      "cell_type": "code",
      "source": [
        "df = pd.read_excel('/content/drive/MyDrive/InvestigacionPsico/ProcesadoExcel/Mi Test map IMC++ Fulcrum v3.xlsx')\n",
        "#print(df['Puntuaciones'],df['Unnamed: 10'])\n",
        "#print(df.columns)\n",
        "busqueda = df['Puntuaciones']\n",
        "\n",
        "for val in busqueda:\n",
        "  #print(val)\n",
        "  if pd.isna(val):\n",
        "    print(val)"
      ],
      "metadata": {
        "colab": {
          "base_uri": "https://localhost:8080/"
        },
        "outputId": "1629fc5f-8f98-4165-9466-4eefe50a1218",
        "id": "jnGf4DHi8HoS"
      },
      "execution_count": null,
      "outputs": [
        {
          "output_type": "stream",
          "name": "stdout",
          "text": [
            "nan\n",
            "nan\n",
            "nan\n",
            "nan\n",
            "nan\n",
            "nan\n",
            "nan\n",
            "nan\n",
            "nan\n",
            "nan\n",
            "nan\n",
            "nan\n",
            "nan\n",
            "nan\n",
            "nan\n",
            "nan\n",
            "nan\n",
            "nan\n",
            "nan\n",
            "nan\n",
            "nan\n",
            "nan\n",
            "nan\n",
            "nan\n",
            "nan\n",
            "nan\n",
            "nan\n",
            "nan\n",
            "nan\n",
            "nan\n",
            "nan\n",
            "nan\n",
            "nan\n",
            "nan\n",
            "nan\n",
            "nan\n",
            "nan\n",
            "nan\n",
            "nan\n",
            "nan\n",
            "nan\n",
            "nan\n",
            "nan\n",
            "nan\n",
            "nan\n",
            "nan\n",
            "nan\n",
            "nan\n",
            "nan\n",
            "nan\n",
            "nan\n",
            "nan\n",
            "nan\n",
            "nan\n",
            "nan\n",
            "nan\n",
            "nan\n",
            "nan\n",
            "nan\n",
            "nan\n",
            "nan\n",
            "nan\n",
            "nan\n",
            "nan\n",
            "nan\n",
            "0      NaN\n",
            "1      NaN\n",
            "2      NaN\n",
            "3      NaN\n",
            "4      NaN\n",
            "      ... \n",
            "451      1\n",
            "452      1\n",
            "453      1\n",
            "454    NaN\n",
            "455    NaN\n",
            "Name: Puntuaciones, Length: 456, dtype: object\n"
          ]
        }
      ]
    },
    {
      "cell_type": "code",
      "source": [],
      "metadata": {
        "id": "aaX5nNRFyrnz"
      },
      "execution_count": null,
      "outputs": []
    }
  ]
}